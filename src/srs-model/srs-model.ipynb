{
 "cells": [
  {
   "cell_type": "markdown",
   "metadata": {},
   "source": [
    "# SRS model\n",
    "\n",
    "This notebook provides analysis for the SRS model using results produced by Mesa simulations."
   ]
  },
  {
   "cell_type": "code",
   "execution_count": null,
   "metadata": {},
   "outputs": [],
   "source": [
    "import matplotlib.pyplot as plt\n",
    "import numpy as np\n",
    "import pandas as pd\n",
    "import seaborn as sns\n",
    "from tqdm import tqdm_notebook\n",
    "\n",
    "from model.model import SrsModel\n",
    "from model.constants import HYPOTHESIS_TRUTH"
   ]
  },
  {
   "cell_type": "markdown",
   "metadata": {},
   "source": [
    "## Set up plotting environment\n",
    "\n",
    "Before getting into the model, we set up plot styles for seaborn."
   ]
  },
  {
   "cell_type": "code",
   "execution_count": null,
   "metadata": {},
   "outputs": [],
   "source": [
    "sns.set(style=\"whitegrid\")\n",
    "sns.set_palette(\"colorblind\")"
   ]
  },
  {
   "cell_type": "markdown",
   "metadata": {},
   "source": [
    "## Parameters\n",
    "\n",
    "First we need to set up the following model parameters:\n",
    "\n",
    "| parameter | description | permissible values |\n",
    "| --- | --- | --- |\n",
    "| $a$ | number of agents | integral, $n > 0$ |\n",
    "| $d$ | number of agents sampled for Expansion and Retirement | integral, $0 \\leq r \\leq 1$ |\n",
    "| $b$ | probability for novel hypotheses being true | $0 \\leq b \\leq 1$ |\n",
    "| $j_{0, N+}$ | base probability for positive novel results being published | $0 \\leq j_{0, N+} \\leq 1$ |\n",
    "| $j_{0, N-}$ | base probability for negative novel results being published | $0 \\leq j_{0, N-} \\leq 1$ |\n",
    "| $j_{0, R+}$ | base probability for positive replication results being published | $0 \\leq j_{0, R+} \\leq 1$ |\n",
    "| $j_{0, R-}$ | base probability for negative replication results being published | $0 \\leq j_{0, R-} \\leq 1$ |\n",
    "| $V_{N+}$ | payoff for publishing a novel hypothesis with a positive result | $V_{N+} \\geq 0$ |\n",
    "| $V_{N-}$ | payoff for publishing a novel hypothesis with a negative result | $V_{N-} \\geq 0$ |\n",
    "| $V_{0, R+}$ | base payoff for publishing a replication with a positive result | $V_{0, R+} \\geq 0$ |\n",
    "| $V_{0, R-}$ | base payoff for publishing a replication with a negative result | $V_{0, R-} \\geq 0$ |\n",
    "| $V_{RS}$ | payoff for having an original hypothesis successfully replicated | $V_{RS} \\geq 0 $ |\n",
    "| $V_{RF}$ | payoff for having an original hypothesis unsuccessfully replicated | $V_{RF} \\leq 0 $ |\n",
    "| $\\eta_{s}$ | influence of rigour on Productivity Checks | $\\eta_s > 0$ |\n",
    "| $\\eta_{r}$ | influence of tallies on replication payoffs | $\\eta_r > 0$ |\n",
    "| $\\eta_{j}$ | influence of reputation on publication probabilities | $\\eta_j > 0$ |\n",
    "| $\\sigma_t$ | standard deviation for targeted tally replication | $\\sigma_{t} > 0$ |\n",
    "| $\\sigma_\\gamma $ | standard deviation for $\\gamma$ mutation magnitude | $\\sigma_{\\gamma} > 0$ |\n",
    "| $\\sigma_\\tau $ | standard deviation for $\\tau$ mutation magnitude | $\\sigma_{\\tau} > 0$ |\n",
    "| $\\sigma_r $ | standard deviation for $r$ mutation magnitude | $\\sigma_{r} > 0$ |\n",
    "| $\\sigma_{c_{N+}}$ | standard deviation for $c_{N+}$ mutation magnitude | $\\sigma_{c_{N+}} > 0$ |\n",
    "| $\\sigma_{c_{N-}}$ | standard deviation for $c_{N-}$ mutation magnitude | $\\sigma_{c_{N-}} > 0$ |\n",
    "| $\\sigma_{c_{R+}}$ | standard deviation for $c_{R+}$ mutation magnitude | $\\sigma_{c_{R+}} > 0$ |\n",
    "| $\\sigma_{c_{R-}}$ | standard deviation for $c_{R-}$ mutation magnitude | $\\sigma_{c_{R-}} > 0$ |"
   ]
  },
  {
   "cell_type": "code",
   "execution_count": null,
   "metadata": {},
   "outputs": [],
   "source": [
    "a = 100\n",
    "d = 10\n",
    "b = 0.1\n",
    "j_0_N_pos = 0.9\n",
    "j_0_N_neg = 0.3\n",
    "j_0_R_pos = 0.2\n",
    "j_0_R_neg = 0.1\n",
    "v_N_pos = 1.0\n",
    "v_N_neg = 1.0\n",
    "v_0_R_pos = 0.5\n",
    "v_0_R_neg = 0.5\n",
    "v_RS = 0.1\n",
    "v_RF = -100\n",
    "eta_s = 0.1\n",
    "eta_r = 0.2\n",
    "eta_j = 0.00005\n",
    "sigma_t = 2.0\n",
    "sigma_gamma = 0.01\n",
    "sigma_tau = 1.0\n",
    "sigma_r = 0.01\n",
    "sigma_c_N_pos = 0.02\n",
    "sigma_c_N_neg = 0.02\n",
    "sigma_c_R_pos = 0.02\n",
    "sigma_c_R_neg = 0.02"
   ]
  },
  {
   "cell_type": "markdown",
   "metadata": {},
   "source": [
    "## Intializing the SRS model simulation\n",
    "\n",
    "Next, we initialize an SRS model instance with the parameters we've set."
   ]
  },
  {
   "cell_type": "code",
   "execution_count": null,
   "metadata": {},
   "outputs": [],
   "source": [
    "model = SrsModel(\n",
    "    a,\n",
    "    d,\n",
    "    b,\n",
    "    j_0_N_pos,\n",
    "    j_0_N_neg,\n",
    "    j_0_R_pos,\n",
    "    j_0_R_neg,\n",
    "    v_N_pos,\n",
    "    v_N_neg,\n",
    "    v_0_R_pos,\n",
    "    v_0_R_neg,\n",
    "    v_RS,\n",
    "    v_RF,\n",
    "    eta_s,\n",
    "    eta_r,\n",
    "    eta_j,\n",
    "    sigma_t,\n",
    "    sigma_gamma,\n",
    "    sigma_tau,\n",
    "    sigma_r,\n",
    "    sigma_c_N_pos,\n",
    "    sigma_c_N_neg,\n",
    "    sigma_c_R_pos,\n",
    "    sigma_c_R_neg,\n",
    ")\n"
   ]
  },
  {
   "cell_type": "markdown",
   "metadata": {},
   "source": [
    "## Initializing agents\n",
    "\n",
    "Now we need to initialize a set of agents in our model. To keep things simple, we start all agents with the same set of parameters for their research strategies. These parameters are as follows:\n",
    "\n",
    "| parameter | description | permissible values |\n",
    "| --- | --- | --- |\n",
    "| $\\gamma$ | the power of the agents | $0 \\leq \\gamma \\leq 1$ |\n",
    "| $\\tau$ | the rigour of the agents | $\\tau > 0$ |\n",
    "| $r$ | probability that an agent chooses to replicate a published hypothesis | $0 \\leq r \\leq 1$ |\n",
    "| $c_{N+}$ | probability that an agent chooses to publish a  positive novel result | $0 \\leq c_{N+} \\leq 1$ |\n",
    "| $c_{N-}$ | probability that an agent chooses to publish a  negative novel result | $0 \\leq c_{N-} \\leq 1$ |\n",
    "| $c_{R+}$ | probability that an agent chooses to publish a  positive replication result | $0 \\leq c_{R+} \\leq 1$ |\n",
    "| $c_{R-}$ | probability that an agent chooses to publish a  negative replication result | $0 \\leq c_{R-} \\leq 1$ |"
   ]
  },
  {
   "cell_type": "code",
   "execution_count": null,
   "metadata": {},
   "outputs": [],
   "source": [
    "gamma = 0.8\n",
    "tau = 75\n",
    "r = 0.2\n",
    "c_N_pos = 1\n",
    "c_N_neg = 1\n",
    "c_R_pos = 1\n",
    "c_R_neg = 1"
   ]
  },
  {
   "cell_type": "code",
   "execution_count": null,
   "metadata": {},
   "outputs": [],
   "source": [
    "model.initialize_agents(gamma, tau, r, c_N_pos, c_N_neg, c_R_pos, c_R_neg)"
   ]
  },
  {
   "cell_type": "markdown",
   "metadata": {},
   "source": [
    "## Running the model\n",
    "\n",
    "Here we run the model, while keeping track of mean replication rate, mean power, and mean type I error."
   ]
  },
  {
   "cell_type": "code",
   "execution_count": null,
   "metadata": {},
   "outputs": [],
   "source": [
    "num_time_steps = 10000\n",
    "\n",
    "mean_rs = []\n",
    "mean_gammas = []\n",
    "mean_alphas = []\n",
    "\n",
    "for _ in tqdm_notebook(range(num_time_steps), leave=False):\n",
    "    model.step()\n",
    "\n",
    "    # Keep track of mean values for research strategy parameters\n",
    "    mean_rs.append(np.mean([agent.r for agent in model.agent_map.values()]))\n",
    "    mean_gammas.append(np.mean([agent.gamma for agent in model.agent_map.values()]))\n",
    "    mean_alphas.append(np.mean([agent.alpha for agent in model.agent_map.values()]))"
   ]
  },
  {
   "cell_type": "markdown",
   "metadata": {},
   "source": [
    "## Plotting evolution of research strategy parameters"
   ]
  },
  {
   "cell_type": "code",
   "execution_count": null,
   "metadata": {},
   "outputs": [],
   "source": [
    "# Put data into a dataframe\n",
    "d = {\n",
    "    \"val\": mean_rs + mean_gammas + mean_alphas,\n",
    "    \"param\": [\"r\"] * num_time_steps\n",
    "    + [\"gamma\"] * num_time_steps\n",
    "    + [\"alpha\"] * num_time_steps,\n",
    "    \"t\": list(range(1, num_time_steps + 1)) * 3,\n",
    "}\n",
    "\n",
    "df = pd.DataFrame(data=d)\n",
    "\n",
    "# Generate the plot\n",
    "fig, ax = plt.subplots(figsize=(10, 6))\n",
    "sns.lineplot(x=\"t\", y=\"val\", hue=\"param\", data=df, ax=ax)\n",
    "\n",
    "# Adjust legend\n",
    "_, labels = ax.get_legend_handles_labels()\n",
    "ax.legend(labels=[r\"$\\bar{r}$\", r\"$\\bar{\\gamma}$\", r\"$\\bar{\\alpha}$\"])\n",
    "\n",
    "# Adjust axes\n",
    "ax.set_ylim(0, 1)\n",
    "ax.set_yticks(np.arange(0, 1 + 0.1, 0.1))\n",
    "ax.set_ylabel(\"\")\n",
    "ax.set_xlim(0, num_time_steps)\n",
    "ax.set_xlabel(\"time step\")\n",
    "\n",
    "# Save the plot\n",
    "# fig.savefig('param_plt.png', bbox_inches='tight')"
   ]
  },
  {
   "cell_type": "markdown",
   "metadata": {},
   "source": [
    "## Functions for precision, sensitivity, and specificity\n",
    "\n",
    "Here, as in the Model of Scientific Discovery, we will be interested in precision, sensitivity, and specificity. We provide functions for calculating these quantities. The variable names here reflect the names used when analysing the Model of Scientific Discovery."
   ]
  },
  {
   "cell_type": "code",
   "execution_count": null,
   "metadata": {},
   "outputs": [],
   "source": [
    "# Max and min tallies to consider\n",
    "max_tally = 100\n",
    "min_tally = -100\n",
    "\n",
    "# This is a function to convert tally numbers to indices in the above\n",
    "# array\n",
    "tally_idx = lambda x: x - min_tally\n",
    "\n",
    "\n",
    "def calculate_ns():\n",
    "    \"\"\"Calculate n_Ts and n_Fs for any given time step.\n",
    "\n",
    "    This should be run *after* a time step has finished.\n",
    "    \"\"\"\n",
    "    # Initialize arrays\n",
    "    n_Ts = [0] * (max_tally - min_tally + 1)\n",
    "    n_Fs = [0] * (max_tally - min_tally + 1)\n",
    "\n",
    "    # Get a map with tallies as keys and lists of hypothesis indices as\n",
    "    # values\n",
    "    hyp_map = model.hypothesis_manager.hypothesis_map\n",
    "\n",
    "    for s, idxs in hyp_map.items():\n",
    "        n_T = 0\n",
    "        n_F = 0\n",
    "\n",
    "        for idx in idxs:\n",
    "            if model.hypothesis_manager.hypotheses[idx][HYPOTHESIS_TRUTH]:\n",
    "                n_T += 1\n",
    "            else:\n",
    "                n_F += 1\n",
    "\n",
    "        n_Ts[tally_idx(s)] = n_T\n",
    "        n_Fs[tally_idx(s)] = n_F\n",
    "\n",
    "    return (n_Ts, n_Fs)\n",
    "\n",
    "\n",
    "def calculate_precision(n_Ts, n_Fs):\n",
    "    \"\"\"Calculate precision array Fs.\"\"\"\n",
    "    return [\n",
    "        0 if x + n_Fs[i] == 0 else x / (x + n_Fs[i])\n",
    "        for i, x in enumerate(n_Ts)\n",
    "    ]\n",
    "\n",
    "\n",
    "def calculate_sensitivity(n_Ts):\n",
    "    \"\"\"Calculate sensitivity array Gs.\"\"\"\n",
    "    sum_n_Ts = sum(n_Ts)\n",
    "    return [x / sum_n_Ts for x in n_Ts]\n",
    "\n",
    "\n",
    "def calculate_specificity(n_Fs):\n",
    "    \"\"\"Calculate specificity array Hs.\"\"\"\n",
    "    sum_n_Fs = sum(n_Fs)\n",
    "    return [x / sum_n_Fs for x in n_Fs]"
   ]
  },
  {
   "cell_type": "markdown",
   "metadata": {},
   "source": [
    "## Plotting precision, sensitivity, and specificity"
   ]
  },
  {
   "cell_type": "code",
   "execution_count": null,
   "metadata": {},
   "outputs": [],
   "source": [
    "# Calculate F, G, H\n",
    "n_Ts, n_Fs = calculate_ns()\n",
    "\n",
    "Fs = calculate_precision(n_Ts, n_Fs)\n",
    "Gs = calculate_sensitivity(n_Ts)\n",
    "Hs = calculate_specificity(n_Fs)"
   ]
  },
  {
   "cell_type": "code",
   "execution_count": null,
   "metadata": {},
   "outputs": [],
   "source": [
    "# First determine the range of tallies we want to plot\n",
    "min_tally_plt = -5\n",
    "max_tally_plt = 5\n",
    "tally_plt_vals = list(range(min_tally_plt, max_tally_plt + 1))\n",
    "\n",
    "# Get the corresponding indices\n",
    "min_tally_idx = tally_idx(min_tally_plt)\n",
    "max_tally_idx = tally_idx(max_tally_plt)\n",
    "\n",
    "# Put data into a dataframe\n",
    "d = {\"proportion\": [], \"property\": [], \"s\": []}\n",
    "\n",
    "for s, f, g, h in zip(\n",
    "    tally_plt_vals,\n",
    "    Fs[min_tally_idx : max_tally_idx + 1],\n",
    "    Gs[min_tally_idx : max_tally_idx + 1],\n",
    "    Hs[min_tally_idx : max_tally_idx + 1],\n",
    "):\n",
    "    d[\"s\"] += [s] * 3\n",
    "    d[\"property\"] += [\"F\"]\n",
    "    d[\"property\"] += [\"G\"]\n",
    "    d[\"property\"] += [\"H\"]\n",
    "    d[\"proportion\"] += [f]\n",
    "    d[\"proportion\"] += [g]\n",
    "    d[\"proportion\"] += [h]\n",
    "\n",
    "df = pd.DataFrame(data=d)\n",
    "\n",
    "# Generate the plot\n",
    "fig, ax = plt.subplots(figsize=(10, 6))\n",
    "sns.barplot(x=\"s\", y=\"proportion\", hue=\"property\", data=df, ax=ax)\n",
    "\n",
    "# Adjust legend\n",
    "handles, labels = ax.get_legend_handles_labels()\n",
    "ax.legend(handles=handles, labels=[\"precision\", \"sensitivity\", \"specificity\"])\n",
    "\n",
    "# Adjust axes\n",
    "ax.set_yticks(np.arange(0, 1 + 0.1, 0.1))\n",
    "ax.set_ylabel(\"\")\n",
    "ax.set_xlabel(\"tally\")\n",
    "\n",
    "# Save the plot\n",
    "#fig.savefig('tally_plt.png', bbox_inches='tight')"
   ]
  }
 ],
 "metadata": {
  "kernelspec": {
   "display_name": "Python 3",
   "language": "python",
   "name": "python3"
  },
  "language_info": {
   "codemirror_mode": {
    "name": "ipython",
    "version": 3
   },
   "file_extension": ".py",
   "mimetype": "text/x-python",
   "name": "python",
   "nbconvert_exporter": "python",
   "pygments_lexer": "ipython3",
   "version": "3.7.3"
  }
 },
 "nbformat": 4,
 "nbformat_minor": 2
}
