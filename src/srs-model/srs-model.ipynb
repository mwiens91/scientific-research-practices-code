{
 "cells": [
  {
   "cell_type": "markdown",
   "metadata": {},
   "source": [
    "# SRS model\n",
    "\n",
    "This notebook provides analysis for the SRS model using results produced by Mesa simulations."
   ]
  },
  {
   "cell_type": "code",
   "execution_count": 1,
   "metadata": {},
   "outputs": [],
   "source": [
    "import matplotlib.pyplot as plt\n",
    "import numpy as np\n",
    "import pandas as pd\n",
    "import seaborn as sns\n",
    "\n",
    "from model.model import SrsModel"
   ]
  },
  {
   "cell_type": "markdown",
   "metadata": {},
   "source": [
    "## Parameters\n",
    "\n",
    "First we need to set up the following model parameters:\n",
    "\n",
    "| parameter | description | permissible values |\n",
    "| --- | --- | --- |\n",
    "| $a$ | number of agents | integral, $n > 0$ |\n",
    "| $d$ | number of agents sampled for Expansion and Retirement | integral, $0 \\leq r \\leq 1$ |\n",
    "| $b$ | probability for novel hypotheses being true | $0 \\leq b \\leq 1$ |\n",
    "| $j_{0, N+}$ | base probability for positive novel results being published | $0 \\leq j_{0, N+} \\leq 1$ |\n",
    "| $j_{0, N-}$ | base probability for negative novel results being published | $0 \\leq j_{0, N-} \\leq 1$ |\n",
    "| $j_{0, R+}$ | base probability for positive replication results being published | $0 \\leq j_{0, R+} \\leq 1$ |\n",
    "| $j_{0, R-}$ | base probability for negative replication results being published | $0 \\leq j_{0, R-} \\leq 1$ |\n",
    "| $V_{N+}$ | payoff for publishing a novel hypothesis with a positive result | $V_{N+} \\geq 0$ |\n",
    "| $V_{N-}$ | payoff for publishing a novel hypothesis with a negative result | $V_{N-} \\geq 0$ |\n",
    "| $V_{0, R+}$ | base payoff for publishing a replication with a positive result | $V_{0, R+} \\geq 0$ |\n",
    "| $V_{0, R-}$ | base payoff for publishing a replication with a negative result | $V_{0, R-} \\geq 0$ |\n",
    "| $V_{RS}$ | payoff for having an original hypothesis successfully replicated | $V_{RS} \\geq 0 $ |\n",
    "| $V_{RF}$ | payoff for having an original hypothesis unsuccessfully replicated | $V_{RF} \\leq 0 $ |\n",
    "| $\\eta_{s}$ | influence of rigour on Productivity Checks | $\\eta_s > 0$ |\n",
    "| $\\eta_{r}$ | influence of tallies on replication payoffs | $\\eta_r > 0$ |\n",
    "| $\\eta_{j}$ | influence of reputation on publication probabilities | $\\eta_j > 0$ |\n",
    "| $\\eta_{N+}$ | influence of reputation on publishing positive novel results | $\\eta_{N+} > 0$ |\n",
    "| $\\eta_{N-}$ | influence of reputation on publishing negative novel results | $\\eta_{N-} > 0$ |\n",
    "| $\\eta_{R+}$ | influence of reputation on publishing positive replication results | $\\eta_{R+} > 0$ |\n",
    "| $\\eta_{R-}$ | influence of reputation on publishing negative replication results | $\\eta_{R-} > 0$ |\n",
    "| $\\sigma_t$ | standard deviation for targeted tally replication | $\\sigma_{t} > 0$ |\n",
    "| $\\sigma_{c_{N+}}$ | standard deviation for $c_{N+}$ mutation magnitude | $\\sigma_{c_{N+}} > 0$ |\n",
    "| $\\sigma_{c_{N-}}$ | standard deviation for $c_{N-}$ mutation magnitude | $\\sigma_{c_{N-}} > 0$ |\n",
    "| $\\sigma_{c_{R+}}$ | standard deviation for $c_{R+}$ mutation magnitude | $\\sigma_{c_{R+}} > 0$ |\n",
    "| $\\sigma_{c_{R-}}$ | standard deviation for $c_{R-}$ mutation magnitude | $\\sigma_{c_{R-}} > 0$ |"
   ]
  },
  {
   "cell_type": "code",
   "execution_count": 2,
   "metadata": {},
   "outputs": [],
   "source": [
    "a = 1000\n",
    "d = 10\n",
    "b = 0.01\n",
    "j_0_N_pos = 0.9\n",
    "j_0_N_neg = 0.6\n",
    "j_0_R_pos = 0.7\n",
    "j_0_R_neg = 0.4\n",
    "v_N_pos = 1\n",
    "v_N_neg = 0.8\n",
    "v_0_R_pos = 0.5\n",
    "v_0_R_neg = 0.5\n",
    "v_RS = 0.2\n",
    "v_RF = -0.8\n",
    "eta_s = 0.2\n",
    "eta_r = 0.5\n",
    "eta_j = 0.5\n",
    "eta_N_pos = 0.2\n",
    "eta_N_neg = 0.2\n",
    "eta_R_pos = 0.2\n",
    "eta_R_neg = 0.2\n",
    "sigma_t = 0.1\n",
    "sigma_c_N_pos = 0.01\n",
    "sigma_c_N_neg = 0.01\n",
    "sigma_c_R_pos = 0.01\n",
    "sigma_c_R_neg = 0.01"
   ]
  },
  {
   "cell_type": "markdown",
   "metadata": {},
   "source": [
    "## Intializing the SRS model simulation\n",
    "\n",
    "Next, we initialize an SRS model instance with the parameters we've set."
   ]
  },
  {
   "cell_type": "code",
   "execution_count": 3,
   "metadata": {},
   "outputs": [],
   "source": [
    "model = SrsModel(\n",
    "    a,\n",
    "    d,\n",
    "    b,\n",
    "    j_0_N_pos,\n",
    "    j_0_N_neg,\n",
    "    j_0_R_pos,\n",
    "    j_0_R_neg,\n",
    "    v_N_pos,\n",
    "    v_N_neg,\n",
    "    v_0_R_pos,\n",
    "    v_0_R_neg,\n",
    "    v_RS,\n",
    "    v_RF,\n",
    "    eta_s,\n",
    "    eta_r,\n",
    "    eta_j,\n",
    "    eta_N_pos,\n",
    "    eta_N_neg,\n",
    "    eta_R_pos,\n",
    "    eta_R_neg,\n",
    "    sigma_t,\n",
    "    sigma_c_N_pos,\n",
    "    sigma_c_N_neg,\n",
    "    sigma_c_R_pos,\n",
    "    sigma_c_R_neg,\n",
    ")\n"
   ]
  },
  {
   "cell_type": "markdown",
   "metadata": {},
   "source": [
    "## Initializing agents\n",
    "\n",
    "Now we need to initialize a set of agents in our model. To keep things simple, we start all agents with the same set of parameters for their research strategies. These parameters are as follows:\n",
    "\n",
    "| parameter | description | permissible values |\n",
    "| --- | --- | --- |\n",
    "| $\\gamma$ | the power of the agents | $0 \\leq \\gamma \\leq 1$ |\n",
    "| $\\tau$ | the rigour of the agents | $\\tau > 0$ |\n",
    "| $r$ | probability that an agent chooses to replicate a published hypothesis | $0 \\leq r \\leq 1$ |\n",
    "| $c_{N+}$ | probability that an agent chooses to publish a  positive novel result | $0 \\leq c_{N+} \\leq 1$ |\n",
    "| $c_{N-}$ | probability that an agent chooses to publish a  negative novel result | $0 \\leq c_{N-} \\leq 1$ |\n",
    "| $c_{R+}$ | probability that an agent chooses to publish a  positive replication result | $0 \\leq c_{R+} \\leq 1$ |\n",
    "| $c_{R-}$ | probability that an agent chooses to publish a  negative replication result | $0 \\leq c_{R-} \\leq 1$ |"
   ]
  },
  {
   "cell_type": "code",
   "execution_count": 4,
   "metadata": {},
   "outputs": [],
   "source": [
    "gamma = 0.8\n",
    "tau = 100\n",
    "r = 0.2\n",
    "c_N_pos = 1\n",
    "c_N_neg = 0.8\n",
    "c_R_pos = 0.6\n",
    "c_R_neg = 0.4"
   ]
  },
  {
   "cell_type": "code",
   "execution_count": 5,
   "metadata": {},
   "outputs": [],
   "source": [
    "model.initialize_agents(gamma, tau, r, c_N_pos, c_N_neg, c_R_pos, c_R_neg)"
   ]
  }
 ],
 "metadata": {
  "kernelspec": {
   "display_name": "Python 3",
   "language": "python",
   "name": "python3"
  },
  "language_info": {
   "codemirror_mode": {
    "name": "ipython",
    "version": 3
   },
   "file_extension": ".py",
   "mimetype": "text/x-python",
   "name": "python",
   "nbconvert_exporter": "python",
   "pygments_lexer": "ipython3",
   "version": "3.7.3"
  }
 },
 "nbformat": 4,
 "nbformat_minor": 2
}
