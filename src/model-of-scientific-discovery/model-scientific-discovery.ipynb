{
 "cells": [
  {
   "cell_type": "markdown",
   "metadata": {},
   "source": [
    "# Model of Scientific Discovery\n",
    "\n",
    "This notebook provides analysis for the Model of Scientific Discovery by using recurrence relations."
   ]
  },
  {
   "cell_type": "code",
   "execution_count": null,
   "metadata": {},
   "outputs": [],
   "source": [
    "import matplotlib.pyplot as plt"
   ]
  },
  {
   "cell_type": "markdown",
   "metadata": {},
   "source": [
    "## Parameters\n",
    "\n",
    "First we need to set up starting values the following model parameters:\n",
    "\n",
    "| parameter | description | permissible values |\n",
    "| --- | --- | --- |\n",
    "| $a$ | number of agents | integral, $n > 0$ |\n",
    "| $r$ | probability that an agent chooses to replicate a tested hypothesis | $0 \\leq r \\leq 1$ |\n",
    "| $b$ | probability that a novel hypothesis is true | $0 \\leq b \\leq 1$ |\n",
    "| $\\alpha$ | type I error rate | $0 \\leq \\alpha \\leq 1$ |\n",
    "| $\\beta$ | type II error rate | $0 \\leq \\beta \\leq 1$ |\n",
    "| $c_{N+}$ | probability that a positive novel result is published | $0 \\leq c_{N+} \\leq 1$ |\n",
    "| $c_{N-}$ | probability that a negative novel result is published | $0 \\leq c_{N-} \\leq 1$ |\n",
    "| $c_{R+}$ | probability that a positive replication result is published | $0 \\leq c_{R+} \\leq 1$ |\n",
    "| $c_{R-}$ | probability that a negative replication result is published | $0 \\leq c_{R-} \\leq 1$ |\n",
    "\n",
    "These will be changed in examples below, but for now we just want a complete set to work with."
   ]
  },
  {
   "cell_type": "code",
   "execution_count": null,
   "metadata": {},
   "outputs": [],
   "source": [
    "a = 100\n",
    "r = 0.2\n",
    "b = 0.001\n",
    "alpha = 0.05\n",
    "beta = 0.2\n",
    "c_n_pos = 1.0\n",
    "c_n_neg = 1.0\n",
    "c_r_pos = 0.9\n",
    "c_r_neg = 0.9"
   ]
  },
  {
   "cell_type": "markdown",
   "metadata": {},
   "source": [
    "## Setting up data structures\n",
    "\n",
    "Here we will make a simplifying assumption that the tally numbers never exceed some minimum and maximum value. We make this assumption to simplify the code to gather the results. Note that this assumption is reasonable: very few hypotheses will exceed the minimum and maximum values provided that these values are extreme enough.\n",
    "\n",
    "For reasons that should hopefully be obvious, we require $$\\text{max_tally} > 1$$ and $$\\text{min_tally} < -1.$$"
   ]
  },
  {
   "cell_type": "code",
   "execution_count": null,
   "metadata": {},
   "outputs": [],
   "source": [
    "max_tally = 1000\n",
    "min_tally = -1000"
   ]
  },
  {
   "cell_type": "markdown",
   "metadata": {},
   "source": [
    "Next we set up arrays to keep track of $n_{\\text{T}, s}$ and $n_{\\text{F}, s}$ values, as described in the main text. Note that keeping track of these values for all time steps is trivial. However, we will not bother doing that here."
   ]
  },
  {
   "cell_type": "code",
   "execution_count": null,
   "metadata": {},
   "outputs": [],
   "source": [
    "n_Ts = [0] * (max_tally - min_tally + 1)\n",
    "n_Fs = [0] * (max_tally - min_tally + 1)\n",
    "\n",
    "# The total number of hypotheses\n",
    "n = 0\n",
    "\n",
    "# This is a function to convert tally numbers to indices in the above\n",
    "# array\n",
    "tally_idx = lambda x: x - min_tally"
   ]
  },
  {
   "cell_type": "markdown",
   "metadata": {},
   "source": [
    "## Defining the recurrence relations\n",
    "\n",
    "Next we define functions for the recursion relations, taking special care to handle the cases where $s = 1, -1, \\text{min_tally}, \\text{max_tally}$."
   ]
  },
  {
   "cell_type": "code",
   "execution_count": null,
   "metadata": {},
   "outputs": [],
   "source": [
    "published_failed_true_replications_from_above = (\n",
    "    lambda s: a * r * n_Ts[tally_idx(s + 1)] / n * beta * c_r_neg\n",
    ")\n",
    "published_successful_true_replications_from_below = (\n",
    "    lambda s: a * r * n_Ts[tally_idx(s - 1)] / n * (1 - beta) * c_r_pos\n",
    ")\n",
    "published_true_replications_from_current = (\n",
    "    lambda s: a * r * n_Ts[tally_idx(s)] / n * ((1 - beta) * c_r_pos + beta * c_r_neg)\n",
    ")\n",
    "new_positive_true_novel_hypotheses = a * (1 - r) * b * (1 - beta) * c_n_pos\n",
    "new_negative_true_novel_hypotheses = a * (1 - r) * b * beta * c_n_neg\n",
    "\n",
    "\n",
    "def run_recursion_for_true_hypotheses(s):\n",
    "    global n\n",
    "\n",
    "    # Get number of true hypotheses for this tally from previous time\n",
    "    # step\n",
    "    count = n_Ts[tally_idx(s)]\n",
    "\n",
    "    # Add in failed replications from above\n",
    "    if s != max_tally:\n",
    "        count += published_failed_true_replications_from_above(s)\n",
    "\n",
    "    # Add in successful replications from below\n",
    "    if s != min_tally:\n",
    "        count += published_successful_true_replications_from_below(s)\n",
    "\n",
    "    # Remove in replications of current tally\n",
    "    count -= published_true_replications_from_current(s)\n",
    "\n",
    "    # Add in new novel hypotheses\n",
    "    if s == 1:\n",
    "        count += new_positive_true_novel_hypotheses\n",
    "        n += new_positive_true_novel_hypotheses\n",
    "    elif s == -1:\n",
    "        count += new_negative_true_novel_hypotheses\n",
    "        n += new_negative_true_novel_hypotheses\n",
    "\n",
    "    return count"
   ]
  },
  {
   "cell_type": "code",
   "execution_count": null,
   "metadata": {},
   "outputs": [],
   "source": [
    "published_failed_false_replications_from_above = (\n",
    "    lambda s: a * r * n_Fs[tally_idx(s + 1)] / n * (1 - alpha) * c_r_neg\n",
    ")\n",
    "published_successful_false_replications_from_below = (\n",
    "    lambda s: a * r * n_Fs[tally_idx(s - 1)] / n * alpha * c_r_pos\n",
    ")\n",
    "published_false_replications_from_current = (\n",
    "    lambda s: a * r * n_Fs[tally_idx(s)] / n * (alpha * c_r_pos + (1 - alpha) * c_r_neg)\n",
    ")\n",
    "new_positive_false_novel_hypotheses = a * (1 - r) * (1 - b) * alpha * c_n_pos\n",
    "new_negative_false_novel_hypotheses = a * (1 - r) * (1 - b) * (1 - alpha) * c_n_neg\n",
    "\n",
    "\n",
    "def run_recursion_for_false_hypotheses(s):\n",
    "    global n\n",
    "\n",
    "    # Get number of false hypotheses for this tally from previous time\n",
    "    # step\n",
    "    count = n_Fs[tally_idx(s)]\n",
    "\n",
    "    # Add in failed replications from above\n",
    "    if s != max_tally:\n",
    "        count += published_failed_false_replications_from_above(s)\n",
    "\n",
    "    # Add in successful replications from below\n",
    "    if s != min_tally:\n",
    "        count += published_successful_false_replications_from_below(s)\n",
    "\n",
    "    # Remove in replications of current tally\n",
    "    count -= published_false_replications_from_current(s)\n",
    "\n",
    "    # Add in new novel hypotheses\n",
    "    if s == 1:\n",
    "        count += new_positive_false_novel_hypotheses\n",
    "        n += new_positive_false_novel_hypotheses\n",
    "    elif s == -1:\n",
    "        count += new_negative_false_novel_hypotheses\n",
    "        n += new_negative_false_novel_hypotheses\n",
    "\n",
    "    return count"
   ]
  },
  {
   "cell_type": "markdown",
   "metadata": {},
   "source": [
    "## Setting up initial data\n",
    "\n",
    "We need to set up at least one hypothesis to get the model started. Here we'll set up $50$ true and false hypotheses with tally $1$ and $50$ true and false hypotheses with tally $-1$."
   ]
  },
  {
   "cell_type": "code",
   "execution_count": null,
   "metadata": {},
   "outputs": [],
   "source": [
    "n_Ts[tally_idx(1)] = 50\n",
    "n_Fs[tally_idx(1)] = 50\n",
    "n_Ts[tally_idx(-1)] = 50\n",
    "n_Ts[tally_idx(-1)] = 50\n",
    "\n",
    "n = 200"
   ]
  },
  {
   "cell_type": "markdown",
   "metadata": {},
   "source": [
    "## Running the recurrence relations\n",
    "\n",
    "We now run the recurrence relations for a fixed number of time steps."
   ]
  },
  {
   "cell_type": "code",
   "execution_count": null,
   "metadata": {},
   "outputs": [],
   "source": [
    "num_time_steps = 500\n",
    "\n",
    "for _ in range(num_time_steps):\n",
    "    new_n_Ts = n_Ts.copy()\n",
    "    new_n_Fs = n_Fs.copy()\n",
    "\n",
    "    for s in range(min_tally, max_tally):\n",
    "        new_n_Ts[tally_idx(s)] = run_recursion_for_true_hypotheses(s)\n",
    "        new_n_Fs[tally_idx(s)] = run_recursion_for_false_hypotheses(s)\n",
    "\n",
    "\n",
    "    n_Ts = new_n_Ts\n",
    "    n_Fs = new_n_Fs"
   ]
  },
  {
   "cell_type": "code",
   "execution_count": null,
   "metadata": {},
   "outputs": [],
   "source": [
    "plt.bar(list(range(len(n_Ts))), [x / n for x in n_Ts])\n"
   ]
  },
  {
   "cell_type": "code",
   "execution_count": null,
   "metadata": {},
   "outputs": [],
   "source": [
    "plt.bar(list(range(len(n_Fs))), [x / n for x in n_Fs])"
   ]
  },
  {
   "cell_type": "code",
   "execution_count": null,
   "metadata": {},
   "outputs": [],
   "source": [
    "print(max(n_Fs))"
   ]
  }
 ],
 "metadata": {
  "kernelspec": {
   "display_name": "Python 3",
   "language": "python",
   "name": "python3"
  },
  "language_info": {
   "codemirror_mode": {
    "name": "ipython",
    "version": 3
   },
   "file_extension": ".py",
   "mimetype": "text/x-python",
   "name": "python",
   "nbconvert_exporter": "python",
   "pygments_lexer": "ipython3",
   "version": "3.7.3"
  }
 },
 "nbformat": 4,
 "nbformat_minor": 2
}
