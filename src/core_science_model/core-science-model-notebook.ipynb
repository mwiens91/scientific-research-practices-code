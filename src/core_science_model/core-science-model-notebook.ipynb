{
 "cells": [
  {
   "cell_type": "markdown",
   "metadata": {},
   "source": [
    "# Core science model\n",
    "\n",
    "This notebook runs and provides analysis for the core science model."
   ]
  },
  {
   "cell_type": "code",
   "execution_count": 1,
   "metadata": {},
   "outputs": [],
   "source": [
    "import matplotlib.pyplot as plt\n",
    "from science_model import ScienceModel, TALLY, TRUE"
   ]
  },
  {
   "cell_type": "markdown",
   "metadata": {},
   "source": [
    "## Parameters\n",
    "\n",
    "First we need to set the following model parameters:\n",
    "\n",
    "| parameter | description | permissible values |\n",
    "| --- | --- | --- |\n",
    "| $n$ | number of agents | integral, $n > 0$ |\n",
    "| $r$ | probability that an agent chooses to replicate a tested hypothesis | $0 \\leq r \\leq 1$ |\n",
    "| $b$ | probability that a novel hypothesis is true | $0 \\leq b \\leq 1$ |\n",
    "| $\\alpha$ | type I error rate | $0 \\leq \\alpha \\leq 1$ |\n",
    "| $\\beta$ | type II error rate | $0 \\leq \\beta \\leq 1$ |\n",
    "| $c_{n-}$ | probability that a negative novel result is published | $0 \\leq c_{n-} \\leq 1$ |\n",
    "| $c_{r+}$ | probability that a positive replication result is published | $0 \\leq c_{r+} \\leq 1$ |\n",
    "| $c_{r-}$ | probability that a negative replication result is published | $0 \\leq c_{r-} \\leq 1$ |"
   ]
  },
  {
   "cell_type": "code",
   "execution_count": 2,
   "metadata": {},
   "outputs": [],
   "source": [
    "n = 100\n",
    "r = 0.2\n",
    "b = 0.1\n",
    "alpha = 0.05\n",
    "beta = 0.2\n",
    "c_n_neg = 0.9\n",
    "c_r_pos = 0.9\n",
    "c_r_neg = 0.9"
   ]
  },
  {
   "cell_type": "markdown",
   "metadata": {},
   "source": [
    "## Initial data\n",
    "\n",
    "Next we need to set up at least one tested hypothesis to start the\n",
    "model. Note that this initial data must follow the following schema:\n",
    "\n",
    "```python\n",
    "[{TRUE: bool, TALLY: int}, ... ]\n",
    "```"
   ]
  },
  {
   "cell_type": "code",
   "execution_count": 3,
   "metadata": {},
   "outputs": [],
   "source": [
    "initial_data = [{TRUE: True, TALLY: 1}]"
   ]
  },
  {
   "cell_type": "markdown",
   "metadata": {},
   "source": [
    "## Running the model\n",
    "\n",
    "First we define the number of time steps to run the model for:"
   ]
  },
  {
   "cell_type": "code",
   "execution_count": 4,
   "metadata": {},
   "outputs": [],
   "source": [
    "num_steps = 200"
   ]
  },
  {
   "cell_type": "markdown",
   "metadata": {},
   "source": [
    "Next, we run the model:"
   ]
  },
  {
   "cell_type": "code",
   "execution_count": 5,
   "metadata": {},
   "outputs": [],
   "source": [
    "model = ScienceModel(\n",
    "    n=n,\n",
    "    r=r,\n",
    "    b=b,\n",
    "    alpha=alpha,\n",
    "    beta=beta,\n",
    "    c_n_neg=c_n_neg,\n",
    "    c_r_pos=c_r_pos,\n",
    "    c_r_neg=c_r_neg,\n",
    "    initial_data=initial_data,\n",
    ")\n",
    "\n",
    "for i in range(num_steps):\n",
    "    model.step()"
   ]
  },
  {
   "cell_type": "markdown",
   "metadata": {},
   "source": [
    "## Analysis\n",
    "\n",
    "First we group the tested hypotheses by tallies."
   ]
  },
  {
   "cell_type": "code",
   "execution_count": 6,
   "metadata": {},
   "outputs": [],
   "source": [
    "hypothesis_summary = {}\n",
    "\n",
    "for hypothesis in model.tested_hypotheses:\n",
    "    if hypothesis[TALLY] in hypothesis_summary:\n",
    "        hypothesis_summary[hypothesis[TALLY]][\"total_count\"] += 1\n",
    "\n",
    "        if hypothesis[TRUE]:\n",
    "            hypothesis_summary[hypothesis[TALLY]][\"true_count\"] += 1\n",
    "    else:\n",
    "        hypothesis_summary[hypothesis[TALLY]] = {\n",
    "            \"total_count\": 1,\n",
    "            \"true_count\": 1 if hypothesis[TRUE] else 0,\n",
    "        }"
   ]
  },
  {
   "cell_type": "markdown",
   "metadata": {},
   "source": [
    "### Number of hypotheses per tally"
   ]
  },
  {
   "cell_type": "code",
   "execution_count": 7,
   "metadata": {},
   "outputs": [
    {
     "data": {
      "text/plain": [
       "<BarContainer object of 9 artists>"
      ]
     },
     "execution_count": 7,
     "metadata": {},
     "output_type": "execute_result"
    },
    {
     "data": {
      "image/png": "[encoded data removed]",
      "text/plain": [
       "<Figure size 432x288 with 1 Axes>"
      ]
     },
     "metadata": {
      "needs_background": "light"
     },
     "output_type": "display_data"
    }
   ],
   "source": [
    "%matplotlib inline\n",
    "tally_vals = list(sorted(hypothesis_summary.keys()))\n",
    "tally_total_counts = [hypothesis_summary[t][\"total_count\"] for t in tally_vals]\n",
    "\n",
    "plt.bar(tally_vals, tally_total_counts)"
   ]
  },
  {
   "cell_type": "markdown",
   "metadata": {},
   "source": [
    "### Percentage true by tally"
   ]
  },
  {
   "cell_type": "code",
   "execution_count": 8,
   "metadata": {},
   "outputs": [
    {
     "data": {
      "text/plain": [
       "<BarContainer object of 9 artists>"
      ]
     },
     "execution_count": 8,
     "metadata": {},
     "output_type": "execute_result"
    },
    {
     "data": {
      "image/png": "[encoded data removed]",
      "text/plain": [
       "<Figure size 432x288 with 1 Axes>"
      ]
     },
     "metadata": {
      "needs_background": "light"
     },
     "output_type": "display_data"
    }
   ],
   "source": [
    "tally_percent_true_counts = [\n",
    "    hypothesis_summary[t][\"true_count\"] / hypothesis_summary[t][\"total_count\"]\n",
    "    for t in tally_vals\n",
    "]\n",
    "\n",
    "plt.bar(tally_vals, tally_percent_true_counts)"
   ]
  }
 ],
 "metadata": {
  "kernelspec": {
   "display_name": "Python 3",
   "language": "python",
   "name": "python3"
  },
  "language_info": {
   "codemirror_mode": {
    "name": "ipython",
    "version": 3
   },
   "file_extension": ".py",
   "mimetype": "text/x-python",
   "name": "python",
   "nbconvert_exporter": "python",
   "pygments_lexer": "ipython3",
   "version": "3.7.3"
  }
 },
 "nbformat": 4,
 "nbformat_minor": 2
}
